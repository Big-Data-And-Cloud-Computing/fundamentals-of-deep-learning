{
 "cells": [
  {
   "cell_type": "markdown",
   "metadata": {},
   "source": [
    "# Training in mini-batches: Stochastic gradient descent\n",
    "\n",
    "[![Open In Colab](https://colab.research.google.com/assets/colab-badge.svg)](https://colab.research.google.com/github/parrt/fundamentals-of-deep-learning/blob/main/notebooks/7.SGD-minibatch-diabetes.ipynb)\n",
    "\n",
    "We've been using generic gradient descent to optimize our model so far.  Because we've been estimating gradients using the entire `X` matrix, we call this batch gradient descent. Each update of the model parameters after considering all training instances is called an epoch. For batch gradient descent, there is one loss function computation per epoch.  If we process the training data in chunks rather than a single batch, we call it mini-batch gradient descent, or more commonly stochastic gradient descent (SGD). It is called stochastic because of the imprecision and, hence, randomness introduced by the computation of gradients on a subset of the training data. After we've computed a gradient and updated weights using all training instances, we call that an epoch, shuffle the batches, and do another epoch.\n",
    "\n",
    "## Why minibatch vs batch gradient descent?\n",
    "\n",
    "<a href=\"https://twitter.com/ylecun/status/989610208497360896\"><img src=\"https://explained.ai/rnn/images/lecunn-batch-size.png\" width=\"250\" align=\"right\"></a>\n",
    "Sometimes we have so much data that it will not fit on our GPU all at once; decent GPUs typically have around 12G of RAM.  For big problems, we need to break it up into batches.\n",
    " \n",
    "Also, and possibly a more important goal, is to get better generalization; i.e., smaller validation loss. We want batch size to be as large as possible for efficiency on GPUs, but as small as possible to get the stochastic bouncing around down into lower and better minima.\n",
    "\n",
    "* [Tradeoff batch size vs. number of iterations to train a neural network](https://stats.stackexchange.com/questions/164876/tradeoff-batch-size-vs-number-of-iterations-to-train-a-neural-network)\n",
    "* [Why mini batch size is better than one single “batch” with all training data?](https://datascience.stackexchange.com/questions/16807/why-mini-batch-size-is-better-than-one-single-batch-with-all-training-data)\n",
    "* [Revisiting Small Batch Training for Deep Neural Networks](https://arxiv.org/abs/1804.07612)\n",
    "\n",
    "To avoid combining too many concepts at once, let's run the diabetes example again and on the CPU not a GPU.  That way we can focus on just the stochastic gradient descent issue."
   ]
  },
  {
   "cell_type": "code",
   "execution_count": 2,
   "metadata": {},
   "outputs": [],
   "source": [
    "import sys\n",
    "import torch\n",
    "import copy\n",
    "import torch.nn as nn\n",
    "import torch.nn.functional as F\n",
    "import numpy as np\n",
    "import pandas as pd\n",
    "from sklearn.model_selection import train_test_split\n",
    "from sklearn.datasets import load_diabetes\n",
    "from sklearn.ensemble import RandomForestRegressor\n",
    "import matplotlib.pyplot as plt\n",
    "from matplotlib import colors \n",
    "\n",
    "%config InlineBackend.figure_format = 'retina'"
   ]
  },
  {
   "cell_type": "code",
   "execution_count": 3,
   "metadata": {},
   "outputs": [],
   "source": [
    "def plot_history(history, ax=None, maxy=None, file=None):\n",
    "    if ax is None:\n",
    "        fig, ax = plt.subplots(1,1, figsize=(3.5,3))\n",
    "    ax.set_ylabel(\"Loss\")\n",
    "    ax.set_xlabel(\"Epochs\")\n",
    "    loss = history[:,0]\n",
    "    val_loss = history[:,1]\n",
    "    if maxy:\n",
    "        ax.set_ylim(0,maxy)\n",
    "    else:\n",
    "        ax.set_ylim(0,torch.max(val_loss))\n",
    "    ax.plot(loss, label='train_loss')\n",
    "    ax.plot(val_loss, label='val_loss')\n",
    "    ax.legend(loc='upper right')\n",
    "    plt.tight_layout()\n",
    "    if file:\n",
    "        plt.savefig(f\"/Users/parrt/Desktop/{file}.pdf\")"
   ]
  },
  {
   "cell_type": "code",
   "execution_count": 4,
   "metadata": {},
   "outputs": [
    {
     "data": {
      "text/plain": [
       "442"
      ]
     },
     "execution_count": 4,
     "metadata": {},
     "output_type": "execute_result"
    }
   ],
   "source": [
    "d = load_diabetes()\n",
    "len(d.data)"
   ]
  },
  {
   "cell_type": "code",
   "execution_count": 5,
   "metadata": {},
   "outputs": [
    {
     "data": {
      "text/html": [
       "<div>\n",
       "<style scoped>\n",
       "    .dataframe tbody tr th:only-of-type {\n",
       "        vertical-align: middle;\n",
       "    }\n",
       "\n",
       "    .dataframe tbody tr th {\n",
       "        vertical-align: top;\n",
       "    }\n",
       "\n",
       "    .dataframe thead th {\n",
       "        text-align: right;\n",
       "    }\n",
       "</style>\n",
       "<table border=\"1\" class=\"dataframe\">\n",
       "  <thead>\n",
       "    <tr style=\"text-align: right;\">\n",
       "      <th></th>\n",
       "      <th>age</th>\n",
       "      <th>sex</th>\n",
       "      <th>bmi</th>\n",
       "      <th>bp</th>\n",
       "      <th>s1</th>\n",
       "      <th>s2</th>\n",
       "      <th>s3</th>\n",
       "      <th>s4</th>\n",
       "      <th>s5</th>\n",
       "      <th>s6</th>\n",
       "      <th>disease</th>\n",
       "    </tr>\n",
       "  </thead>\n",
       "  <tbody>\n",
       "    <tr>\n",
       "      <th>0</th>\n",
       "      <td>0.038076</td>\n",
       "      <td>0.050680</td>\n",
       "      <td>0.061696</td>\n",
       "      <td>0.021872</td>\n",
       "      <td>-0.044223</td>\n",
       "      <td>-0.034821</td>\n",
       "      <td>-0.043401</td>\n",
       "      <td>-0.002592</td>\n",
       "      <td>0.019908</td>\n",
       "      <td>-0.017646</td>\n",
       "      <td>151.0</td>\n",
       "    </tr>\n",
       "    <tr>\n",
       "      <th>1</th>\n",
       "      <td>-0.001882</td>\n",
       "      <td>-0.044642</td>\n",
       "      <td>-0.051474</td>\n",
       "      <td>-0.026328</td>\n",
       "      <td>-0.008449</td>\n",
       "      <td>-0.019163</td>\n",
       "      <td>0.074412</td>\n",
       "      <td>-0.039493</td>\n",
       "      <td>-0.068330</td>\n",
       "      <td>-0.092204</td>\n",
       "      <td>75.0</td>\n",
       "    </tr>\n",
       "    <tr>\n",
       "      <th>2</th>\n",
       "      <td>0.085299</td>\n",
       "      <td>0.050680</td>\n",
       "      <td>0.044451</td>\n",
       "      <td>-0.005671</td>\n",
       "      <td>-0.045599</td>\n",
       "      <td>-0.034194</td>\n",
       "      <td>-0.032356</td>\n",
       "      <td>-0.002592</td>\n",
       "      <td>0.002864</td>\n",
       "      <td>-0.025930</td>\n",
       "      <td>141.0</td>\n",
       "    </tr>\n",
       "  </tbody>\n",
       "</table>\n",
       "</div>"
      ],
      "text/plain": [
       "        age       sex       bmi        bp        s1        s2        s3  \\\n",
       "0  0.038076  0.050680  0.061696  0.021872 -0.044223 -0.034821 -0.043401   \n",
       "1 -0.001882 -0.044642 -0.051474 -0.026328 -0.008449 -0.019163  0.074412   \n",
       "2  0.085299  0.050680  0.044451 -0.005671 -0.045599 -0.034194 -0.032356   \n",
       "\n",
       "         s4        s5        s6  disease  \n",
       "0 -0.002592  0.019908 -0.017646    151.0  \n",
       "1 -0.039493 -0.068330 -0.092204     75.0  \n",
       "2 -0.002592  0.002864 -0.025930    141.0  "
      ]
     },
     "execution_count": 5,
     "metadata": {},
     "output_type": "execute_result"
    }
   ],
   "source": [
    "df = pd.DataFrame(d.data, columns=d.feature_names)\n",
    "df['disease'] = d.target # \"quantitative measure of disease progression one year after baseline\"\n",
    "df.head(3)"
   ]
  },
  {
   "cell_type": "markdown",
   "metadata": {},
   "source": [
    "## Split data into train, validation sets\n",
    "\n",
    "We'll use \"test\" as shorthand for \"validation\" but technically they are not the same."
   ]
  },
  {
   "cell_type": "code",
   "execution_count": 6,
   "metadata": {},
   "outputs": [],
   "source": [
    "np.random.seed(1) # set a random seed for consistency across runs\n",
    "n = len(df)\n",
    "n_test = int(n*0.20) # 20% held out as validation set\n",
    "n_train = n - n_test\n",
    "X = df.drop('disease',axis=1).values\n",
    "y = df['disease'].values\n",
    "X_train, X_test, y_train, y_test = train_test_split(X, y, test_size=n_test)"
   ]
  },
  {
   "cell_type": "code",
   "execution_count": 7,
   "metadata": {},
   "outputs": [],
   "source": [
    "m = np.mean(X_train,axis=0)\n",
    "std = np.std(X_train,axis=0)\n",
    "X_train = (X_train-m)/std\n",
    "X_test = (X_test-m)/std       # use training data only when prepping test sets"
   ]
  },
  {
   "cell_type": "code",
   "execution_count": 8,
   "metadata": {},
   "outputs": [
    {
     "name": "stdout",
     "output_type": "stream",
     "text": [
      "Training MSE 455.43 validation MSE 3405.60\n"
     ]
    }
   ],
   "source": [
    "rf = RandomForestRegressor(n_estimators=500)#, min_samples_leaf=2, max_features=1)\n",
    "rf.fit(X_train, y_train.reshape(-1))\n",
    "y_pred = rf.predict(X_train)\n",
    "mse = np.mean((y_pred - y_train.reshape(-1))**2)\n",
    "\n",
    "y_pred = rf.predict(X_test)\n",
    "mse_test = np.mean((y_pred - y_test.reshape(-1))**2)\n",
    "\n",
    "print(f\"Training MSE {mse:.2f} validation MSE {mse_test:.2f}\")"
   ]
  },
  {
   "cell_type": "code",
   "execution_count": 9,
   "metadata": {},
   "outputs": [],
   "source": [
    "X_train = torch.tensor(X_train).float()\n",
    "X_test = torch.tensor(X_test).float()\n",
    "y_train = torch.tensor(y_train).float().reshape(-1,1) # column vector\n",
    "y_test = torch.tensor(y_test).float().reshape(-1,1)"
   ]
  },
  {
   "cell_type": "markdown",
   "metadata": {},
   "source": [
    "## Minibatch stochastic gradient descent (SGD)"
   ]
  },
  {
   "cell_type": "code",
   "execution_count": 10,
   "metadata": {},
   "outputs": [],
   "source": [
    "def sgdtrain(model, X_train, X_test, y_train, y_test,\n",
    "             learning_rate = .5, nepochs=2000, weight_decay=0, batch_size=32,\n",
    "             trace=True):\n",
    "    n = len(X_train)\n",
    "    nbatches = n // batch_size\n",
    "    optimizer = torch.optim.Adam(model.parameters(), lr=learning_rate, weight_decay=weight_decay)\n",
    "    history = []\n",
    "    best_loss = 1e10\n",
    "    best_model = None\n",
    "    for epoch in range(nepochs+1):\n",
    "        epoch_training_loss = 0.0\n",
    "        # Must shuffle before each epoch\n",
    "        shuffle_idx = torch.randperm(len(X_train))\n",
    "        X_train_shuffled = X_train[shuffle_idx]\n",
    "        y_train_shuffled = y_train[shuffle_idx]\n",
    "        for p in range(0, n, batch_size):  # do one epoch\n",
    "            loss = 0\n",
    "            # extract a batch at index p\n",
    "            batch_X = X_train_shuffled[p:p+batch_size]\n",
    "            batch_y = y_train_shuffled[p:p+batch_size]\n",
    "            y_pred = model(batch_X)\n",
    "            loss = torch.mean((y_pred - batch_y)**2)\n",
    "            epoch_training_loss += loss.detach().item()\n",
    "\n",
    "            optimizer.zero_grad()\n",
    "            loss.backward() # autograd computes w1.grad, b1.grad, ...\n",
    "            optimizer.step()\n",
    "        \n",
    "        epoch_training_loss /= nbatches # average batch loss\n",
    "\n",
    "        y_pred_test = model(X_test)\n",
    "        loss_test = torch.mean((y_pred_test - y_test)**2)\n",
    "        history.append((epoch_training_loss, loss_test))\n",
    "        if loss_test < best_loss:\n",
    "            best_loss = loss_test\n",
    "            best_model = copy.deepcopy(model)\n",
    "            best_epoch = epoch\n",
    "        \n",
    "        if trace and epoch % (nepochs//10) == 0:\n",
    "            print(f\"Epoch {epoch:4d} MSE train loss {epoch_training_loss:12.3f}   test loss {loss_test:12.3f}\")\n",
    "\n",
    "    print(f\"BEST MSE test loss {best_loss:.3f} at epoch {best_epoch}\")\n",
    "    return torch.tensor(history), best_model"
   ]
  },
  {
   "cell_type": "code",
   "execution_count": 19,
   "metadata": {},
   "outputs": [
    {
     "name": "stdout",
     "output_type": "stream",
     "text": [
      "Epoch    0 MSE train loss    30960.096   test loss    24399.342\n",
      "Epoch   20 MSE train loss     2843.033   test loss     3657.209\n",
      "Epoch   40 MSE train loss     2206.885   test loss     3865.838\n",
      "Epoch   60 MSE train loss     2397.132   test loss     4158.910\n",
      "Epoch   80 MSE train loss     2025.739   test loss     4062.219\n",
      "Epoch  100 MSE train loss     1701.848   test loss     3873.601\n",
      "Epoch  120 MSE train loss     1691.784   test loss     4198.584\n",
      "Epoch  140 MSE train loss     1588.731   test loss     4147.229\n",
      "Epoch  160 MSE train loss     1878.557   test loss     4145.864\n",
      "Epoch  180 MSE train loss     1792.416   test loss     4138.066\n",
      "Epoch  200 MSE train loss     1500.911   test loss     4236.870\n",
      "BEST MSE test loss 3424.293 at epoch 10\n"
     ]
    },
    {
     "data": {
      "image/png": "[encoded data removed]",
      "text/plain": [
       "<Figure size 252x216 with 1 Axes>"
      ]
     },
     "metadata": {
      "image/png": {
       "height": 207,
       "width": 245
      },
      "needs_background": "light"
     },
     "output_type": "display_data"
    }
   ],
   "source": [
    "ncols = X.shape[1]\n",
    "n_neurons = 200\n",
    "model = nn.Sequential(\n",
    "    nn.Linear(ncols, n_neurons),\n",
    "    nn.ReLU(),\n",
    "    nn.BatchNorm1d(n_neurons),\n",
    "    nn.Linear(n_neurons, 1)\n",
    ")\n",
    "\n",
    "history, best_model = sgdtrain(model, X_train, X_test, y_train, y_test,\n",
    "                               learning_rate=.005, nepochs=200, batch_size=16)\n",
    "\n",
    "# verify we got the best model out\n",
    "y_pred = best_model(X_test)\n",
    "best_loss_test = torch.mean((y_pred - y_test)**2)\n",
    "\n",
    "plot_history(torch.clamp(history, 0, 12000))"
   ]
  },
  {
   "cell_type": "code",
   "execution_count": 13,
   "metadata": {},
   "outputs": [
    {
     "name": "stdout",
     "output_type": "stream",
     "text": [
      "Epoch    0 MSE train loss     6135.245   test loss     8170.855\n",
      "Epoch   20 MSE train loss     3970.029   test loss     3357.237\n"
     ]
    },
    {
     "ename": "KeyboardInterrupt",
     "evalue": "",
     "output_type": "error",
     "traceback": [
      "\u001b[0;31m---------------------------------------------------------------------------\u001b[0m",
      "\u001b[0;31mKeyboardInterrupt\u001b[0m                         Traceback (most recent call last)",
      "\u001b[0;32m<ipython-input-13-e6970331e5f6>\u001b[0m in \u001b[0;36m<module>\u001b[0;34m\u001b[0m\n\u001b[1;32m     16\u001b[0m             \u001b[0mnn\u001b[0m\u001b[0;34m.\u001b[0m\u001b[0mLinear\u001b[0m\u001b[0;34m(\u001b[0m\u001b[0mn_neurons\u001b[0m\u001b[0;34m,\u001b[0m \u001b[0;36m1\u001b[0m\u001b[0;34m)\u001b[0m\u001b[0;34m\u001b[0m\u001b[0;34m\u001b[0m\u001b[0m\n\u001b[1;32m     17\u001b[0m         )\n\u001b[0;32m---> 18\u001b[0;31m     history, best_model = sgdtrain(model, X_train, X_test, y_train, y_test,\n\u001b[0m\u001b[1;32m     19\u001b[0m                                    \u001b[0mlearning_rate\u001b[0m\u001b[0;34m=\u001b[0m\u001b[0;36m.05\u001b[0m\u001b[0;34m,\u001b[0m \u001b[0mnepochs\u001b[0m\u001b[0;34m=\u001b[0m\u001b[0;36m200\u001b[0m\u001b[0;34m,\u001b[0m \u001b[0mbatch_size\u001b[0m\u001b[0;34m=\u001b[0m\u001b[0mbs\u001b[0m\u001b[0;34m,\u001b[0m\u001b[0;34m\u001b[0m\u001b[0;34m\u001b[0m\u001b[0m\n\u001b[1;32m     20\u001b[0m                                    trace=True)\n",
      "\u001b[0;32m<ipython-input-10-850bd90383a8>\u001b[0m in \u001b[0;36msgdtrain\u001b[0;34m(model, X_train, X_test, y_train, y_test, learning_rate, nepochs, weight_decay, batch_size, trace)\u001b[0m\n\u001b[1;32m     19\u001b[0m             \u001b[0mbatch_X\u001b[0m \u001b[0;34m=\u001b[0m \u001b[0mX_train_shuffled\u001b[0m\u001b[0;34m[\u001b[0m\u001b[0mp\u001b[0m\u001b[0;34m:\u001b[0m\u001b[0mp\u001b[0m\u001b[0;34m+\u001b[0m\u001b[0mbatch_size\u001b[0m\u001b[0;34m]\u001b[0m\u001b[0;34m\u001b[0m\u001b[0;34m\u001b[0m\u001b[0m\n\u001b[1;32m     20\u001b[0m             \u001b[0mbatch_y\u001b[0m \u001b[0;34m=\u001b[0m \u001b[0my_train_shuffled\u001b[0m\u001b[0;34m[\u001b[0m\u001b[0mp\u001b[0m\u001b[0;34m:\u001b[0m\u001b[0mp\u001b[0m\u001b[0;34m+\u001b[0m\u001b[0mbatch_size\u001b[0m\u001b[0;34m]\u001b[0m\u001b[0;34m\u001b[0m\u001b[0;34m\u001b[0m\u001b[0m\n\u001b[0;32m---> 21\u001b[0;31m             \u001b[0my_pred\u001b[0m \u001b[0;34m=\u001b[0m \u001b[0mmodel\u001b[0m\u001b[0;34m(\u001b[0m\u001b[0mbatch_X\u001b[0m\u001b[0;34m)\u001b[0m\u001b[0;34m\u001b[0m\u001b[0;34m\u001b[0m\u001b[0m\n\u001b[0m\u001b[1;32m     22\u001b[0m             \u001b[0mloss\u001b[0m \u001b[0;34m=\u001b[0m \u001b[0mtorch\u001b[0m\u001b[0;34m.\u001b[0m\u001b[0mmean\u001b[0m\u001b[0;34m(\u001b[0m\u001b[0;34m(\u001b[0m\u001b[0my_pred\u001b[0m \u001b[0;34m-\u001b[0m \u001b[0mbatch_y\u001b[0m\u001b[0;34m)\u001b[0m\u001b[0;34m**\u001b[0m\u001b[0;36m2\u001b[0m\u001b[0;34m)\u001b[0m\u001b[0;34m\u001b[0m\u001b[0;34m\u001b[0m\u001b[0m\n\u001b[1;32m     23\u001b[0m             \u001b[0mepoch_training_loss\u001b[0m \u001b[0;34m+=\u001b[0m \u001b[0mloss\u001b[0m\u001b[0;34m.\u001b[0m\u001b[0mdetach\u001b[0m\u001b[0;34m(\u001b[0m\u001b[0;34m)\u001b[0m\u001b[0;34m.\u001b[0m\u001b[0mitem\u001b[0m\u001b[0;34m(\u001b[0m\u001b[0;34m)\u001b[0m\u001b[0;34m\u001b[0m\u001b[0;34m\u001b[0m\u001b[0m\n",
      "\u001b[0;32m~/opt/anaconda3/lib/python3.8/site-packages/torch/nn/modules/module.py\u001b[0m in \u001b[0;36m_call_impl\u001b[0;34m(self, *input, **kwargs)\u001b[0m\n\u001b[1;32m    720\u001b[0m             \u001b[0mresult\u001b[0m \u001b[0;34m=\u001b[0m \u001b[0mself\u001b[0m\u001b[0;34m.\u001b[0m\u001b[0m_slow_forward\u001b[0m\u001b[0;34m(\u001b[0m\u001b[0;34m*\u001b[0m\u001b[0minput\u001b[0m\u001b[0;34m,\u001b[0m \u001b[0;34m**\u001b[0m\u001b[0mkwargs\u001b[0m\u001b[0;34m)\u001b[0m\u001b[0;34m\u001b[0m\u001b[0;34m\u001b[0m\u001b[0m\n\u001b[1;32m    721\u001b[0m         \u001b[0;32melse\u001b[0m\u001b[0;34m:\u001b[0m\u001b[0;34m\u001b[0m\u001b[0;34m\u001b[0m\u001b[0m\n\u001b[0;32m--> 722\u001b[0;31m             \u001b[0mresult\u001b[0m \u001b[0;34m=\u001b[0m \u001b[0mself\u001b[0m\u001b[0;34m.\u001b[0m\u001b[0mforward\u001b[0m\u001b[0;34m(\u001b[0m\u001b[0;34m*\u001b[0m\u001b[0minput\u001b[0m\u001b[0;34m,\u001b[0m \u001b[0;34m**\u001b[0m\u001b[0mkwargs\u001b[0m\u001b[0;34m)\u001b[0m\u001b[0;34m\u001b[0m\u001b[0;34m\u001b[0m\u001b[0m\n\u001b[0m\u001b[1;32m    723\u001b[0m         for hook in itertools.chain(\n\u001b[1;32m    724\u001b[0m                 \u001b[0m_global_forward_hooks\u001b[0m\u001b[0;34m.\u001b[0m\u001b[0mvalues\u001b[0m\u001b[0;34m(\u001b[0m\u001b[0;34m)\u001b[0m\u001b[0;34m,\u001b[0m\u001b[0;34m\u001b[0m\u001b[0;34m\u001b[0m\u001b[0m\n",
      "\u001b[0;32m~/opt/anaconda3/lib/python3.8/site-packages/torch/nn/modules/container.py\u001b[0m in \u001b[0;36mforward\u001b[0;34m(self, input)\u001b[0m\n\u001b[1;32m    115\u001b[0m     \u001b[0;32mdef\u001b[0m \u001b[0mforward\u001b[0m\u001b[0;34m(\u001b[0m\u001b[0mself\u001b[0m\u001b[0;34m,\u001b[0m \u001b[0minput\u001b[0m\u001b[0;34m)\u001b[0m\u001b[0;34m:\u001b[0m\u001b[0;34m\u001b[0m\u001b[0;34m\u001b[0m\u001b[0m\n\u001b[1;32m    116\u001b[0m         \u001b[0;32mfor\u001b[0m \u001b[0mmodule\u001b[0m \u001b[0;32min\u001b[0m \u001b[0mself\u001b[0m\u001b[0;34m:\u001b[0m\u001b[0;34m\u001b[0m\u001b[0;34m\u001b[0m\u001b[0m\n\u001b[0;32m--> 117\u001b[0;31m             \u001b[0minput\u001b[0m \u001b[0;34m=\u001b[0m \u001b[0mmodule\u001b[0m\u001b[0;34m(\u001b[0m\u001b[0minput\u001b[0m\u001b[0;34m)\u001b[0m\u001b[0;34m\u001b[0m\u001b[0;34m\u001b[0m\u001b[0m\n\u001b[0m\u001b[1;32m    118\u001b[0m         \u001b[0;32mreturn\u001b[0m \u001b[0minput\u001b[0m\u001b[0;34m\u001b[0m\u001b[0;34m\u001b[0m\u001b[0m\n\u001b[1;32m    119\u001b[0m \u001b[0;34m\u001b[0m\u001b[0m\n",
      "\u001b[0;32m~/opt/anaconda3/lib/python3.8/site-packages/torch/nn/modules/module.py\u001b[0m in \u001b[0;36m_call_impl\u001b[0;34m(self, *input, **kwargs)\u001b[0m\n\u001b[1;32m    721\u001b[0m         \u001b[0;32melse\u001b[0m\u001b[0;34m:\u001b[0m\u001b[0;34m\u001b[0m\u001b[0;34m\u001b[0m\u001b[0m\n\u001b[1;32m    722\u001b[0m             \u001b[0mresult\u001b[0m \u001b[0;34m=\u001b[0m \u001b[0mself\u001b[0m\u001b[0;34m.\u001b[0m\u001b[0mforward\u001b[0m\u001b[0;34m(\u001b[0m\u001b[0;34m*\u001b[0m\u001b[0minput\u001b[0m\u001b[0;34m,\u001b[0m \u001b[0;34m**\u001b[0m\u001b[0mkwargs\u001b[0m\u001b[0;34m)\u001b[0m\u001b[0;34m\u001b[0m\u001b[0;34m\u001b[0m\u001b[0m\n\u001b[0;32m--> 723\u001b[0;31m         for hook in itertools.chain(\n\u001b[0m\u001b[1;32m    724\u001b[0m                 \u001b[0m_global_forward_hooks\u001b[0m\u001b[0;34m.\u001b[0m\u001b[0mvalues\u001b[0m\u001b[0;34m(\u001b[0m\u001b[0;34m)\u001b[0m\u001b[0;34m,\u001b[0m\u001b[0;34m\u001b[0m\u001b[0;34m\u001b[0m\u001b[0m\n\u001b[1;32m    725\u001b[0m                 self._forward_hooks.values()):\n",
      "\u001b[0;31mKeyboardInterrupt\u001b[0m: "
     ]
    },
    {
     "data": {
      "image/png": "[encoded data removed]",
      "text/plain": [
       "<Figure size 864x180 with 4 Axes>"
      ]
     },
     "metadata": {
      "image/png": {
       "height": 170,
       "width": 718
      },
      "needs_background": "light"
     },
     "output_type": "display_data"
    }
   ],
   "source": [
    "fig, axes = plt.subplots(1, 4,figsize=(12,2.5))\n",
    "\n",
    "n_neurons = 200\n",
    "for bs,ax in zip([1,16,32,64],axes):\n",
    "    if bs>1:\n",
    "        model = nn.Sequential(\n",
    "            nn.Linear(ncols, n_neurons),\n",
    "            nn.ReLU(),\n",
    "            nn.BatchNorm1d(n_neurons),\n",
    "            nn.Linear(n_neurons, 1)\n",
    "        )\n",
    "    else:\n",
    "        model = nn.Sequential(\n",
    "            nn.ReLU(),\n",
    "            nn.Linear(ncols, n_neurons),\n",
    "            nn.Linear(n_neurons, 1)\n",
    "        )\n",
    "    history, best_model = sgdtrain(model, X_train, X_test, y_train, y_test,\n",
    "                                   learning_rate=.015, nepochs=200, batch_size=bs,\n",
    "                                   trace=True)\n",
    "    ax.set_title(f\"{n_neurons} neurons, bs={bs}\")\n",
    "    plot_history(torch.clamp(history, 0, 10000), ax=ax, maxy=10_000)\n",
    "\n",
    "plt.tight_layout()\n",
    "plt.show()"
   ]
  },
  {
   "cell_type": "code",
   "execution_count": null,
   "metadata": {},
   "outputs": [],
   "source": []
  }
 ],
 "metadata": {
  "kernelspec": {
   "display_name": "Python 3",
   "language": "python",
   "name": "python3"
  },
  "language_info": {
   "codemirror_mode": {
    "name": "ipython",
    "version": 3
   },
   "file_extension": ".py",
   "mimetype": "text/x-python",
   "name": "python",
   "nbconvert_exporter": "python",
   "pygments_lexer": "ipython3",
   "version": "3.8.3"
  }
 },
 "nbformat": 4,
 "nbformat_minor": 4
}
